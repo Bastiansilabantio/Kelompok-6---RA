{
  "nbformat": 4,
  "nbformat_minor": 0,
  "metadata": {
    "colab": {
      "provenance": [],
      "include_colab_link": true
    },
    "kernelspec": {
      "name": "python3",
      "display_name": "Python 3"
    },
    "language_info": {
      "name": "python"
    }
  },
  "cells": [
    {
      "cell_type": "markdown",
      "metadata": {
        "id": "view-in-github",
        "colab_type": "text"
      },
      "source": [
        "<a href=\"https://colab.research.google.com/github/vitaanggraini/Kelompok-6---RA/blob/main/kelompok6_RA.ipynb\" target=\"_parent\"><img src=\"https://colab.research.google.com/assets/colab-badge.svg\" alt=\"Open In Colab\"/></a>"
      ]
    },
    {
      "cell_type": "markdown",
      "source": [
        "#Nomor 3"
      ],
      "metadata": {
        "id": "CWlSREYG9L4k"
      }
    },
    {
      "cell_type": "markdown",
      "source": [
        "Analisis Komparasi Soal 1 dan 2:\n",
        "\n",
        "1. Kode pertama menggunakan metode pemrograman fungsional konvensional.Argumen diterima oleh semua fungsi f, g, dan h, dan mereka mengembalikan hasil pemrosesan. Dalam komposisi, fungsi-fungsi ini digunakan secara bertahap. Dengan kata lain, input dari satu fungsi ditukar dengan output dari fungsi berikutnya. Bagi mereka yang terbiasa dengan pemrograman fungsional, kode ini lebih sederhana dan mudah dipahami. Kode menjadi lebih sederhana dan mudah dibaca dengan menggunakan fungsi biasa.\n",
        "2. Dalam pendekatan berbasis objek, kode kedua menjalankan CPS, atau gaya transisi lanjutan. Dalam metode ini, setiap fungsi f, g, dan h dibungkus dalam objek Value, dan metode \"__rshift__\" digunakan untuk mengevaluasi fungsi dengan menggunakan nilai yang disimpan dalam objek Value. Dengan menggunakan operator \">>, kita meneruskan hasil dari satu fungsi ke fungsi berikutnya, dan akhirnya mendapatkan hasil akhir dari Bagi mereka yang tidak terbiasa dengan paradigma tersebut, kode ini menggunakan konsep pemrograman berbasis objek dan CPS. Namun, teknik seperti ini dapat meningkatkan fleksibilitas dan memungkinkan modularitas yang lebih besar dan pemrograman dinamis."
      ],
      "metadata": {
        "id": "v3LzyodF9P7Y"
      }
    },
    {
      "cell_type": "code",
      "execution_count": null,
      "metadata": {
        "id": "6Vn9dnw39EHc"
      },
      "outputs": [],
      "source": []
    }
  ]
}