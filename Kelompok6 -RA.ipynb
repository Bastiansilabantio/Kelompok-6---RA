{
  "nbformat": 4,
  "nbformat_minor": 0,
  "metadata": {
    "colab": {
      "provenance": []
    },
    "kernelspec": {
      "name": "python3",
      "display_name": "Python 3"
    },
    "language_info": {
      "name": "python"
    }
  },
  "cells": [
    {
      "cell_type": "markdown",
      "source": [
        "# Nomor 1"
      ],
      "metadata": {
        "id": "MwHSzrpA8StL"
      }
    },
    {
      "cell_type": "code",
      "source": [
        "def f(x):\n",
        "  return 4*x\n",
        "\n",
        "def g(x):\n",
        "  return x*x\n",
        "\n",
        "def h(x):\n",
        "  return 3+x\n",
        "\n",
        "#composition\n",
        "h(g(f(4)))"
      ],
      "metadata": {
        "id": "fU9X6jXODudv",
        "colab": {
          "base_uri": "https://localhost:8080/"
        },
        "outputId": "3a5789fa-fc61-4da3-d14d-387babe23c27"
      },
      "execution_count": null,
      "outputs": [
        {
          "output_type": "execute_result",
          "data": {
            "text/plain": [
              "259"
            ]
          },
          "metadata": {},
          "execution_count": 1
        }
      ]
    },
    {
      "cell_type": "markdown",
      "source": [
        "Kode ini menjalankan komposisi dari tiga fungsi matematika, yaitu f (x) = 4*, g (x) = x*, dan h(x) menjadi input g(x), dan hasil input untuk f(x). Kode kemudian meminta nilai x dari pengguna, melakukan prosedur komposisi, dan mencetak hasilnya. Perlu diingat bahwa karakteristik masing-masing fungsi (f, g, h) mempengaruhi hasil secara keseluruhan, dan perubahan pada nilai x dapat menyebabkan perubahan besar dalam output."
      ],
      "metadata": {
        "id": "4biStB0i2fvV"
      }
    },
    {
      "cell_type": "markdown",
      "source": [
        "#Nomor 2"
      ],
      "metadata": {
        "id": "Q0qRehdX5z7c"
      }
    },
    {
      "cell_type": "code",
      "source": [
        "#kelas untuk fungsi komposisi menggunakan OOP\n",
        "class FungsiKomposisi:\n",
        "    def _init_(self):\n",
        "        pass\n",
        "\n",
        "    def f(self, x): #fungsi komposisi f(x)\n",
        "        return 4 ** x\n",
        "\n",
        "    def g(self, x): #fungsi komposisi g(x)\n",
        "        return x ** x\n",
        "\n",
        "    def h(self, x): #fungsi komposisi h(x)\n",
        "        return 3 + x\n",
        "\n",
        "    def prosedural(x): #fungsi prosedural\n",
        "      return f(g(h(x)))\n",
        "\n",
        "#meminta inputan x lalu menjalankan hasil prosedural\n",
        "hasil = int(input(\"Masukan nilai x : \"))\n",
        "print(\"Hasil : \", prosedural(hasil))"
      ],
      "metadata": {
        "id": "kIx_etMTiD_Q"
      },
      "execution_count": null,
      "outputs": []
    },
    {
      "cell_type": "markdown",
      "source": [
        "Kode tersebut mendefinisikan sebuah kelas `FungsiKomposisi` yang memiliki metode untuk fungsi komposisi \\(f(x)\\), \\(g(x)\\), dan \\(h(x)\\). Selain itu, ada sebuah metode `prosedural` di dalam kelas tersebut yang menggabungkan ketiga fungsi komposisi tersebut. Namun, terdapat kesalahan penulisan pada konstruktor kelas dan pemanggilan metode prosedural di luar kelas. Setelah dilakukan perbaikan, kode dapat berfungsi dengan baik untuk menghitung nilai fungsi komposisi dari sebuah nilai \\(x\\)."
      ],
      "metadata": {
        "id": "Yx4xGO1554pu"
      }
    },
    {
      "cell_type": "markdown",
      "source": [
        "#Nomor 3"
      ],
      "metadata": {
        "id": "dBC-erXIx0el"
      }
    },
    {
      "cell_type": "markdown",
      "source": [
        "Analisis Komparasi Soal 1 dan 2:\n",
        "\n",
        "1. Kode pertama menggunakan metode pemrograman fungsional konvensional.Argumen diterima oleh semua fungsi f, g, dan h, dan mereka mengembalikan hasil pemrosesan. Dalam komposisi, fungsi-fungsi ini digunakan secara bertahap. Dengan kata lain, input dari satu fungsi ditukar dengan output dari fungsi berikutnya. Bagi mereka yang terbiasa dengan pemrograman fungsional, kode ini lebih sederhana dan mudah dipahami. Kode menjadi lebih sederhana dan mudah dibaca dengan menggunakan fungsi biasa.\n",
        "2. Dalam pendekatan berbasis objek, kode kedua menjalankan CPS, atau gaya transisi lanjutan. Dalam metode ini, setiap fungsi f, g, dan h dibungkus dalam objek Value, dan metode \"__rshift__\" digunakan untuk mengevaluasi fungsi dengan menggunakan nilai yang disimpan dalam objek Value. Dengan menggunakan operator \">>, kita meneruskan hasil dari satu fungsi ke fungsi berikutnya, dan akhirnya mendapatkan hasil akhir dari Bagi mereka yang tidak terbiasa dengan paradigma tersebut, kode ini menggunakan konsep pemrograman berbasis objek dan CPS. Namun, teknik seperti ini dapat meningkatkan fleksibilitas dan memungkinkan modularitas yang lebih besar dan pemrograman dinamis."
      ],
      "metadata": {
        "id": "4xykJW_d0Mz6"
      }
    },
    {
      "cell_type": "markdown",
      "source": [
        "# Nomor 4\n",
        "\n"
      ],
      "metadata": {
        "id": "8crNeFiUn-No"
      }
    },
    {
      "cell_type": "code",
      "source": [
        "import time\n",
        "st = time.time()\n",
        "\n",
        "def luas_segitiga(panjang,lebar,tinggi):\n",
        "  return (panjang*lebar*tinggi)/2\n",
        "luas_segitiga(2,3,4)\n",
        "\n",
        "et = time.time()\n",
        "elapsed_time = et - st\n",
        "print('Execution time:', elapsed_time, 'seconds')"
      ],
      "metadata": {
        "colab": {
          "base_uri": "https://localhost:8080/"
        },
        "id": "7qFDIvMJsM4V",
        "outputId": "748d4ad7-59e3-465e-a1e3-560f588b8e7d"
      },
      "execution_count": null,
      "outputs": [
        {
          "output_type": "stream",
          "name": "stdout",
          "text": [
            "Execution time: 0.00016927719116210938 seconds\n"
          ]
        }
      ]
    },
    {
      "cell_type": "code",
      "source": [
        "import time\n",
        "st = time.time()\n",
        "\n",
        "class Sides:\n",
        "  def __init__(self,a, b, c):\n",
        "    self.a = a\n",
        "    self.b = b\n",
        "    self.c = c\n",
        "\n",
        "class A(Sides):\n",
        "  def area(self):\n",
        "    s = (self.a * self.b * self.c)/2\n",
        "    return s\n",
        "\n",
        "t = A(2,3,4)\n",
        "\n",
        "print(\"area of Triangle : {}\".format(t.area()))\n",
        "et = time.time()\n",
        "elapsed_time = et - st\n",
        "print('Execution time:', elapsed_time, 'seconds')"
      ],
      "metadata": {
        "colab": {
          "base_uri": "https://localhost:8080/"
        },
        "id": "5nNU9cbVoHtT",
        "outputId": "fb2971e8-ca49-4c44-a041-48c97083953c"
      },
      "execution_count": null,
      "outputs": [
        {
          "output_type": "stream",
          "name": "stdout",
          "text": [
            "area of Triangle : 12.0\n",
            "Execution time: 0.003248453140258789 seconds\n"
          ]
        }
      ]
    },
    {
      "cell_type": "markdown",
      "source": [
        "# Nomor 5 Metode Bisection"
      ],
      "metadata": {
        "id": "ByjhMpOu9g7q"
      }
    },
    {
      "cell_type": "code",
      "source": [
        "# Pemrograman Prosedural\n",
        "\n",
        "def bisection(f, a, b, tol=1e-5):\n",
        "    while (b - a) / 2 > tol:\n",
        "        c = (a + b) / 2\n",
        "        if f(c) == 0:\n",
        "            return c\n",
        "        elif f(c) * f(a) < 0:\n",
        "            b = c\n",
        "        else:\n",
        "            a = c\n",
        "    return (a + b) / 2"
      ],
      "metadata": {
        "id": "4WJ1wyh2KPRn"
      },
      "execution_count": null,
      "outputs": []
    },
    {
      "cell_type": "code",
      "source": [
        "# Pemrograman Fungsional\n",
        "\n",
        "def bisection_functional(f, a, b, tol=1e-5):\n",
        "    def iterate(a, b):\n",
        "        c = (a + b) / 2\n",
        "        return c if abs(f(c)) <= tol else (iterate(a, c) if f(c) * f(a) < 0 else iterate(c, b))\n",
        "\n",
        "    return iterate(a, b)\n"
      ],
      "metadata": {
        "id": "TF910M_QKOmY"
      },
      "execution_count": null,
      "outputs": []
    },
    {
      "cell_type": "code",
      "source": [
        "from math import log2\n",
        "\n",
        "def bisection_method(f, a, b, tol):\n",
        "    x0 = a\n",
        "    x1 = b\n",
        "    while abs(x1 - x0) > tol:\n",
        "        x2 = (x0 + x1) / 2\n",
        "        if f(x0) * f(x2) < 0:\n",
        "            x0 = x2\n",
        "        else:\n",
        "            x1 = x2\n",
        "    return (x0 + x1) / 2\n",
        "\n",
        "def f(x):\n",
        "    return x - 2**x\n",
        "\n",
        "a = 0.1\n",
        "b = 0.9\n",
        "tol = 1e-5\n",
        "\n",
        "akar = bisection_method(f, a, b, tol)\n",
        "\n",
        "print(akar)"
      ],
      "metadata": {
        "id": "K64rNnlGKd0H"
      },
      "execution_count": null,
      "outputs": []
    }
  ]
}